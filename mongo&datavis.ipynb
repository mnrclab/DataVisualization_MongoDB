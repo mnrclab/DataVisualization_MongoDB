{
 "cells": [
  {
   "cell_type": "markdown",
   "metadata": {},
   "source": [
    "Source : https://github.com/LintangWisesa/Ujian_AnalyticsVisualization_JCDS03"
   ]
  },
  {
   "cell_type": "markdown",
   "metadata": {},
   "source": [
    "## **Soal 3 - Dosen & Mahasiswa**\n",
    "\n",
    "1. Tuliskan langkah-langkah/urutan query MongoDB untuk membuat sebuah database Non-RDBMS (Document Store) dengan spesifikasi sebagai berikut:\n",
    "- Terdapat sebuah database dengan nama \"Kampus\".\n",
    "- Database \"Kampus\" memiliki 2 buah user:\n",
    "    * User pertama adalah admin database bernama \"andi\", dengan password \"anditopsecret\".\n",
    "    * User kedua bukanlah admin, namun tetap dapat memasukkan & membaca data dari database. User kedua bernama \"budi\", dengan password \"buditopsecret\".\n",
    "\n",
    "- Database \"Kampus\" memiliki 2 buah collection: \"Dosen\" dan \"Mahasiswa\".\n",
    "```\n",
    "{nama:\"Caca\",\n",
    "usia:28,\n",
    "asal:\"Jakarta\",\n",
    "bidang:\"Fisika Astrologi\",\n",
    "titel:\"S2\",\n",
    "status:\"Honorer\",\n",
    "nip:123,\n",
    "matkul:[\"Metrologi\",\"Kosmologi\",\"Kalkulus\"]},\n",
    "{nama:\"Dedi\",\n",
    "usia:29,\n",
    "asal:\"Yogyakarta\",\n",
    "bidang:\"Fisika Terapan\",\n",
    "titel:\"S3\",\n",
    "status:\"PNS\",\n",
    "nip:456,\n",
    "matkul:[\"Instrumentasi\",\"Elektronika\",\"Fisika Dasar\"]},\n",
    "{nama:\"Euis\",\n",
    "usia:30,\n",
    "asal:\"Bandung\",\n",
    "bidang:\"Fisika Teoretik\",\n",
    "titel:\"S1\",\n",
    "status:\"Honorer\",\n",
    "nip:789,\n",
    "matkul:[\"Fisika Dasar\",\"Fisika Modern\",\"Kalkulus\"]}\n",
    "```\n",
    "\n",
    "\n",
    "\n",
    "- Masukkan 3 buah data berikut ke collection \"Mahasiswa\":\n",
    "```\n",
    "{nama:\"Faza\",\n",
    "usia:19,\n",
    "asal:\"Aceh\",\n",
    "prodi:\"Fisika\",\n",
    "angkatan:2017,\n",
    "nim:123},\n",
    "{nama:\"Gilang\",\n",
    "usia:20,\n",
    "asal:\"Semarang\",\n",
    "prodi:\"Fisika\",\n",
    "angkatan:2017,\n",
    "nim:456},\n",
    "{nama:\"Hanafi\",\n",
    "usia:19,\n",
    "asal:\"Makassar\",\n",
    "prodi:\"Fisika\",\n",
    "angkatan:2017,\n",
    "nim:789}\n",
    "```\n"
   ]
  },
  {
   "cell_type": "markdown",
   "metadata": {},
   "source": [
    "### **Jawaban Syntax di MongoDB**"
   ]
  },
  {
   "cell_type": "markdown",
   "metadata": {},
   "source": [
    "**1. Membuat User 'andi'**\n",
    "```\n",
    "db.createUser({\n",
    ". user:\"andi\",\n",
    ". pwd:\"anditopsecret\",\n",
    ". roles: ['dbAdmin, 'readWrite']\n",
    "```\n",
    "\n",
    "**2. Membuat User 'budi'**\n",
    "```\n",
    "db.createUser({\n",
    ".. user:\"budi\",\n",
    ".. pwd:\"buditopsecret\",\n",
    ".. roles:['readWrite']\n",
    ".. })\n",
    "```\n",
    "\n",
    "**3. Menampilkan User yang telah dibuat**\n",
    "```\n",
    ">> show users\n",
    "{\n",
    "        \"_id\" : \"Kampus.andi\",\n",
    "        \"user\" : \"andi\",\n",
    "        \"db\" : \"Kampus\",\n",
    "        \"roles\" : [\n",
    "                {\n",
    "                        \"role\" : \"dbAdmin\",\n",
    "                        \"db\" : \"Kampus\"\n",
    "                },\n",
    "                {\n",
    "                        \"role\" : \"readWrite\",\n",
    "                        \"db\" : \"Kampus\"\n",
    "                }\n",
    "        ]\n",
    "}\n",
    "{\n",
    "        \"_id\" : \"Kampus.budi\",\n",
    "        \"user\" : \"budi\",\n",
    "        \"db\" : \"Kampus\",\n",
    "        \"roles\" : [\n",
    "                {\n",
    "                        \"role\" : \"readWrite\",\n",
    "                        \"db\" : \"Kampus\"\n",
    "                }\n",
    "        ]\n",
    "}\n",
    "```\n",
    "\n",
    "**4. Membuat Collection 'Dosen' dan 'Mahasiswa'**\n",
    "```\n",
    "db.createCollection('Dosen')\n",
    "db.createCollection('Mahasiswa')\n",
    "```\n",
    "\n",
    "**5. Memasukkan Data ke dalam Collection 'Dosen'**\n",
    "```\n",
    "db.Dosen.insert([\n",
    ". {nama:\"Caca\",\n",
    ". usia:28,\n",
    ". asal:\"Jakarta\",\n",
    ". bidang:\"Fisika Astrologi\",\n",
    ". titel:\"S2\",\n",
    ". status:\"Honorer\",\n",
    ". nip:123,\n",
    ". matkul:[\"Metrologi\",\"Kosmologi\",\"Kalkulus\"]},\n",
    ". {nama:\"Dedi\",\n",
    ". usia:29,\n",
    ". asal:\"Yogyakarta\",\n",
    ". bidang:\"Fisika Terapan\",\n",
    ". titel:\"S3\",\n",
    ". status:\"PNS\",\n",
    ". nip:456,\n",
    ". matkul:[\"Instrumentasi\",\"Elektronika\",\"Fisika Dasar\"]},\n",
    ". {nama:\"Euis\",\n",
    ". usia:30,\n",
    ". asal:\"Bandung\",\n",
    ". bidang:\"Fisika Teoretik\",\n",
    ". titel:\"S1\",\n",
    ". status:\"Honorer\",\n",
    ". nip:789,\n",
    ". matkul:[\"Fisika Dasar\",\"Fisika Modern\",\"Kalkulus\"]}\n",
    ". ])\n",
    "```\n",
    "\n",
    "**6. Memasukkan Data ke dalam Collection 'Mahasiswa'**\n",
    "```\n",
    "db.Mahasiswa.insert([\n",
    ". {nama:\"Faza\",\n",
    ". usia:19,\n",
    ". asal:\"Aceh\",\n",
    ". prodi:\"Fisika\",\n",
    ". angkatan:2017,\n",
    ". nim:123},\n",
    ". {nama:\"Gilang\",\n",
    ". usia:20,\n",
    ". asal:\"Semarang\",\n",
    ". prodi:\"Fisika\",\n",
    ". angkatan:2017,\n",
    ". nim:456},\n",
    ".\n",
    ". {nama:\"Hanafi\",\n",
    ". usia:19,\n",
    ". asal:\"Makassar\",\n",
    ". prodi:\"Fisika\",\n",
    ". angkatan:2017,\n",
    ". nim:789}\n",
    ". ])\n",
    "```\n"
   ]
  },
  {
   "cell_type": "markdown",
   "metadata": {},
   "source": [
    "2. Dengan pyMongo, matplotlib & pandas, buatlah sebuah program python yang dapat mengakses dan menampilkan:\n",
    "- Nama, asal, usia & status dari daftar dosen & mahasiswa di collection tersebut. Output yang diharapkan berupa 2 buah dataframe. "
   ]
  },
  {
   "cell_type": "markdown",
   "metadata": {},
   "source": [
    "### **Jawaban Coding di Jupyter Lab using pymongo**"
   ]
  },
  {
   "cell_type": "code",
   "execution_count": 1,
   "metadata": {},
   "outputs": [],
   "source": [
    "import pymongo\n",
    "import pandas as pd\n",
    "dburl = 'mongodb://localhost:27017/'\n",
    "mymongo = pymongo.MongoClient(dburl)"
   ]
  },
  {
   "cell_type": "code",
   "execution_count": 2,
   "metadata": {},
   "outputs": [
    {
     "name": "stdout",
     "output_type": "stream",
     "text": [
      "['Kampus', 'admin', 'config', 'hahaha', 'local', 'pymongodb', 'resto', 'tokoonline']\n"
     ]
    }
   ],
   "source": [
    "# MELIHAT DAFTAR DATABASE\n",
    "dbs = mymongo.list_database_names()\n",
    "print(dbs)"
   ]
  },
  {
   "cell_type": "code",
   "execution_count": 3,
   "metadata": {},
   "outputs": [
    {
     "data": {
      "text/html": [
       "<div>\n",
       "<style scoped>\n",
       "    .dataframe tbody tr th:only-of-type {\n",
       "        vertical-align: middle;\n",
       "    }\n",
       "\n",
       "    .dataframe tbody tr th {\n",
       "        vertical-align: top;\n",
       "    }\n",
       "\n",
       "    .dataframe thead th {\n",
       "        text-align: right;\n",
       "    }\n",
       "</style>\n",
       "<table border=\"1\" class=\"dataframe\">\n",
       "  <thead>\n",
       "    <tr style=\"text-align: right;\">\n",
       "      <th></th>\n",
       "      <th>asal</th>\n",
       "      <th>nama</th>\n",
       "      <th>status</th>\n",
       "      <th>usia</th>\n",
       "    </tr>\n",
       "  </thead>\n",
       "  <tbody>\n",
       "    <tr>\n",
       "      <td>0</td>\n",
       "      <td>Jakarta</td>\n",
       "      <td>Caca</td>\n",
       "      <td>Dosen</td>\n",
       "      <td>28</td>\n",
       "    </tr>\n",
       "    <tr>\n",
       "      <td>1</td>\n",
       "      <td>Yogyakarta</td>\n",
       "      <td>Dedi</td>\n",
       "      <td>Dosen</td>\n",
       "      <td>29</td>\n",
       "    </tr>\n",
       "    <tr>\n",
       "      <td>2</td>\n",
       "      <td>Bandung</td>\n",
       "      <td>Euis</td>\n",
       "      <td>Dosen</td>\n",
       "      <td>30</td>\n",
       "    </tr>\n",
       "  </tbody>\n",
       "</table>\n",
       "</div>"
      ],
      "text/plain": [
       "         asal  nama status usia\n",
       "0     Jakarta  Caca  Dosen   28\n",
       "1  Yogyakarta  Dedi  Dosen   29\n",
       "2     Bandung  Euis  Dosen   30"
      ]
     },
     "execution_count": 3,
     "metadata": {},
     "output_type": "execute_result"
    }
   ],
   "source": [
    "# MENGAKSES COLLECTION 'Dosen' DALAM DATABASE 'Kampus'\n",
    "mydb = mymongo['Kampus']\n",
    "Dosen = mydb['Dosen']\n",
    "db_dosen = list(Dosen.find())\n",
    "# db_dosen\n",
    "\n",
    "list_key = list(db_dosen[0].keys())\n",
    "col = [list_key[3],list_key[1],list_key[6],list_key[2]]\n",
    "\n",
    "asal = [dic['asal'] for dic in db_dosen]\n",
    "nama = [dic['nama'] for dic in db_dosen]\n",
    "# status = [dic['status'] for dic in db_dosen]\n",
    "status = [\"Dosen\", \"Dosen\", \"Dosen\"]\n",
    "usia = [dic['usia'] for dic in db_dosen]\n",
    "\n",
    "df_dosen = pd.DataFrame([asal, nama, status, usia])\n",
    "df_dosen = df_dosen.transpose()\n",
    "df_dosen.columns = col\n",
    "df_dosen"
   ]
  },
  {
   "cell_type": "code",
   "execution_count": 4,
   "metadata": {},
   "outputs": [
    {
     "data": {
      "text/html": [
       "<div>\n",
       "<style scoped>\n",
       "    .dataframe tbody tr th:only-of-type {\n",
       "        vertical-align: middle;\n",
       "    }\n",
       "\n",
       "    .dataframe tbody tr th {\n",
       "        vertical-align: top;\n",
       "    }\n",
       "\n",
       "    .dataframe thead th {\n",
       "        text-align: right;\n",
       "    }\n",
       "</style>\n",
       "<table border=\"1\" class=\"dataframe\">\n",
       "  <thead>\n",
       "    <tr style=\"text-align: right;\">\n",
       "      <th></th>\n",
       "      <th>asal</th>\n",
       "      <th>nama</th>\n",
       "      <th>status</th>\n",
       "      <th>usia</th>\n",
       "    </tr>\n",
       "  </thead>\n",
       "  <tbody>\n",
       "    <tr>\n",
       "      <td>0</td>\n",
       "      <td>Aceh</td>\n",
       "      <td>Faza</td>\n",
       "      <td>Mahasiswa</td>\n",
       "      <td>19</td>\n",
       "    </tr>\n",
       "    <tr>\n",
       "      <td>1</td>\n",
       "      <td>Semarang</td>\n",
       "      <td>Gilang</td>\n",
       "      <td>Mahasiswa</td>\n",
       "      <td>20</td>\n",
       "    </tr>\n",
       "    <tr>\n",
       "      <td>2</td>\n",
       "      <td>Makassar</td>\n",
       "      <td>Hanafi</td>\n",
       "      <td>Mahasiswa</td>\n",
       "      <td>19</td>\n",
       "    </tr>\n",
       "  </tbody>\n",
       "</table>\n",
       "</div>"
      ],
      "text/plain": [
       "       asal    nama     status usia\n",
       "0      Aceh    Faza  Mahasiswa   19\n",
       "1  Semarang  Gilang  Mahasiswa   20\n",
       "2  Makassar  Hanafi  Mahasiswa   19"
      ]
     },
     "execution_count": 4,
     "metadata": {},
     "output_type": "execute_result"
    }
   ],
   "source": [
    "# MENGAKSES COLLECTION 'Mahasiswa' DALAM DATABASE 'Kampus'\n",
    "mydb1 = mymongo['Kampus']\n",
    "Mahasiswa = mydb1['Mahasiswa']\n",
    "db_mhs = list(Mahasiswa.find())\n",
    "\n",
    "list_key1 = list(db_mhs[0].keys())\n",
    "col1 = [list_key1[3],list_key1[1],\"status\",list_key1[2]]\n",
    "\n",
    "asal1 = [dic['asal'] for dic in db_mhs]\n",
    "nama1 = [dic['nama'] for dic in db_mhs]\n",
    "status1 = [\"Mahasiswa\", \"Mahasiswa\", \"Mahasiswa\"]\n",
    "usia1 = [dic['usia'] for dic in db_mhs]\n",
    "\n",
    "df_mhs = pd.DataFrame([asal1, nama1, status1, usia1])\n",
    "df_mhs = df_mhs.transpose()\n",
    "df_mhs.columns = col1\n",
    "df_mhs"
   ]
  },
  {
   "cell_type": "markdown",
   "metadata": {},
   "source": [
    "- Sekaligus menampilkan diagram batang usia dari dosen & mahasiswa. "
   ]
  },
  {
   "cell_type": "code",
   "execution_count": 5,
   "metadata": {},
   "outputs": [],
   "source": [
    "import matplotlib.pyplot as plt"
   ]
  },
  {
   "cell_type": "code",
   "execution_count": 50,
   "metadata": {},
   "outputs": [
    {
     "data": {
      "image/png": "[encoded data removed]",
      "text/plain": [
       "<Figure size 576x360 with 1 Axes>"
      ]
     },
     "metadata": {
      "needs_background": "light"
     },
     "output_type": "display_data"
    }
   ],
   "source": [
    "plt.style.use('bmh')\n",
    "plt.figure('Kampus', figsize=(8,5))\n",
    "\n",
    "plt.bar(df_dosen['nama'], df_dosen['usia'], \n",
    "        color=['#3390ff'],\n",
    "        edgecolor='black', linewidth=2.5)\n",
    "\n",
    "plt.bar(df_mhs['nama'], df_mhs['usia'], \n",
    "        color=['#ff9f33'],\n",
    "        edgecolor='black', linewidth=2.5)\n",
    "\n",
    "\n",
    "plt.title('Usia Warga Kampus', fontdict={'size':20})\n",
    "plt.legend(['Dosen','Mahasiswa'])\n",
    "plt.show()"
   ]
  },
  {
   "cell_type": "code",
   "execution_count": null,
   "metadata": {},
   "outputs": [],
   "source": []
  },
  {
   "cell_type": "code",
   "execution_count": null,
   "metadata": {},
   "outputs": [],
   "source": []
  }
 ],
 "metadata": {
  "kernelspec": {
   "display_name": "Python 3",
   "language": "python",
   "name": "python3"
  },
  "language_info": {
   "codemirror_mode": {
    "name": "ipython",
    "version": 3
   },
   "file_extension": ".py",
   "mimetype": "text/x-python",
   "name": "python",
   "nbconvert_exporter": "python",
   "pygments_lexer": "ipython3",
   "version": "3.7.4"
  }
 },
 "nbformat": 4,
 "nbformat_minor": 4
}
